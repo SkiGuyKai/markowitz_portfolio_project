{
 "cells": [
  {
   "cell_type": "markdown",
   "id": "f7fbdafb",
   "metadata": {},
   "source": [
    "# Portfolio Backtest-er\n",
    "Enter your desired securities and their optimal weightings. The final cell backtests each weight scheme for easy comparison."
   ]
  },
  {
   "cell_type": "code",
   "execution_count": 1,
   "id": "f31d7f72",
   "metadata": {},
   "outputs": [],
   "source": [
    "import yfinance as yf\n",
    "import numpy as np\n",
    "import pandas as pd"
   ]
  },
  {
   "cell_type": "code",
   "execution_count": 2,
   "id": "9a0be646",
   "metadata": {},
   "outputs": [
    {
     "name": "stdout",
     "output_type": "stream",
     "text": [
      "{'aapl': yfinance.Ticker object <AAPL>, 'f': yfinance.Ticker object <F>, 'gm': yfinance.Ticker object <GM>, 'nvda': yfinance.Ticker object <NVDA>}\n"
     ]
    }
   ],
   "source": [
    "'''Enter desired security symbols'''\n",
    "tickers = ['nvda', 'f', 'gm', 'aapl']\n",
    "tickers.sort()\n",
    "close = pd.DataFrame(columns=tickers)\n",
    "\n",
    "'''Dict for managing all ticker objects'''\n",
    "full = {}\n",
    "for ticker in tickers:\n",
    "    thing = yf.Ticker(ticker)\n",
    "    full[ticker] = thing\n",
    "    \n",
    "    '''Retrieve and clean historical data'''\n",
    "    data = thing.history(period='3y', interval='1d')\n",
    "    close[ticker] = data.loc[:, 'Close']\n",
    "    \n",
    "rtns = close.pct_change()\n",
    "n = len(close.columns)\n",
    "print(full)"
   ]
  },
  {
   "cell_type": "code",
   "execution_count": 3,
   "id": "39acf7c7",
   "metadata": {},
   "outputs": [],
   "source": [
    "'''Enter the optimal portfolio weights'''\n",
    "opt_w = [0.42133033344520693, 0.31090500753766304, -0.16441472892500425, 0.43217938794213423]\n",
    "'''Equal weighted pofo'''\n",
    "eq_w = [0.2, 0.2, 0.2, 0.2, 0.2]"
   ]
  },
  {
   "cell_type": "code",
   "execution_count": 4,
   "id": "891999fd",
   "metadata": {},
   "outputs": [],
   "source": [
    "'''Price-weighted portfolio'''\n",
    "p_w = []\n",
    "\n",
    "tot_p = 0\n",
    "for i in range(n):\n",
    "    tot_p += close.iloc[-1, i]\n",
    "    \n",
    "for i in range(n):\n",
    "    weight = close.iloc[-1, i] / tot_p\n",
    "    p_w.append(weight)"
   ]
  },
  {
   "cell_type": "code",
   "execution_count": 8,
   "id": "6fea36b3",
   "metadata": {},
   "outputs": [],
   "source": [
    "'''Value-weighted portfolio'''\n",
    "m_w = []\n",
    "\n",
    "tot_v = 0\n",
    "v = []\n",
    "main = list(full)\n",
    "for i in range(n):\n",
    "    idx = main[i]\n",
    "    value = full[idx].info['sharesOutstanding'] * close.iloc[-1, i]\n",
    "    v.append(value)\n",
    "    tot_v += value\n",
    "    \n",
    "for i in range(n):\n",
    "    weight = v[i] / tot_v\n",
    "    m_w.append(weight)"
   ]
  },
  {
   "cell_type": "code",
   "execution_count": 6,
   "id": "56cdac5f",
   "metadata": {},
   "outputs": [],
   "source": [
    "'''Define function for vectorized backtesting'''\n",
    "def backtest(x, df):\n",
    "    tot = []\n",
    "    for i in range(n):\n",
    "        col = df.iloc[:, i] * x[i]\n",
    "        tot.append(col.sum())\n",
    "    return sum(tot)"
   ]
  },
  {
   "cell_type": "code",
   "execution_count": 7,
   "id": "e5e465a0",
   "metadata": {},
   "outputs": [
    {
     "name": "stdout",
     "output_type": "stream",
     "text": [
      "Returns for following schemes:\n",
      "Optimal: 189.74%\n",
      "Equal: 116.97%\n",
      "Price: 196.65%\n",
      "Market Value: 168.48%\n"
     ]
    }
   ],
   "source": [
    "'''Backtest each scheme and display results'''\n",
    "optimal = round(backtest(opt_w, rtns) * 100, 2)\n",
    "equal = round(backtest(eq_w, rtns) * 100, 2)\n",
    "price = round(backtest(p_w, rtns) * 100, 2)\n",
    "market_value = round(backtest(m_w, rtns) * 100, 2)\n",
    "\n",
    "print('Returns for following schemes:')\n",
    "print(\n",
    "    f'Optimal: {optimal}%\\nEqual: {equal}%\\nPrice: {price}%\\nMarket Value: {market_value}%'\n",
    ")"
   ]
  }
 ],
 "metadata": {
  "kernelspec": {
   "display_name": "Python 3",
   "language": "python",
   "name": "python3"
  },
  "language_info": {
   "codemirror_mode": {
    "name": "ipython",
    "version": 3
   },
   "file_extension": ".py",
   "mimetype": "text/x-python",
   "name": "python",
   "nbconvert_exporter": "python",
   "pygments_lexer": "ipython3",
   "version": "3.9.2"
  }
 },
 "nbformat": 4,
 "nbformat_minor": 5
}
