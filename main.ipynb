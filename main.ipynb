{
 "cells": [
  {
   "cell_type": "markdown",
   "id": "b2359678",
   "metadata": {},
   "source": [
    "This program intends to optimize a portfolio utilising Markowitz Portfolio Theory\n",
    "Start by...\n",
    "1. Retrieve data from Yahoo! Finance\n",
    "2. Clean data and calculate basic asset metrics\n",
    "3. Create the covariance function w/constraints and minimize\n",
    "4. Plot the min-variance frontier forcing different pofo returns\n",
    "5. Plot the capital allocation line\n",
    "6. Plot the indifference curves\n",
    "7. Wrap it up with CFA utility maximization"
   ]
  },
  {
   "cell_type": "code",
   "execution_count": null,
   "id": "efca0dc7",
   "metadata": {},
   "outputs": [],
   "source": [
    "import yfinance as yf\n",
    "import pandas as pd\n",
    "import numpy as np\n",
    "import matplotlib.pyplot as plt\n",
    "from scipy.optimize import minimize"
   ]
  },
  {
   "cell_type": "code",
   "execution_count": null,
   "id": "616974b6",
   "metadata": {},
   "outputs": [],
   "source": [
    "tickers = \"TYPE ASSET SYMBOLS HERE\"\n",
    "data = yf.download(tickers, period='3y', interval='1d')\n",
    "\n",
    "'''We only need the adjusted close data; we can drop the rest'''\n",
    "close = data.loc[:,'Adj Close'] \n",
    "rtns = close.pct_change()\n",
    "n = len(close.columns)"
   ]
  },
  {
   "cell_type": "code",
   "execution_count": null,
   "id": "f876cb5d",
   "metadata": {},
   "outputs": [],
   "source": [
    "'''Calculate asset stats'''\n",
    "mean_rtn = rtns.mean() * 252 ** 0.5\n",
    "sd = np.std(rtns)\n",
    "var = sd ** 2"
   ]
  },
  {
   "cell_type": "code",
   "execution_count": null,
   "id": "df90ca9a",
   "metadata": {},
   "outputs": [],
   "source": [
    "'''Define the porfolio covariance function and weight constraint'''\n",
    "def covar(x):\n",
    "    mtx = np.cov(rtns.dropna(), rowvar=False)\n",
    "    for i in range(len(mtx)):\n",
    "        for j in range(len(mtx)):\n",
    "            mtx[i, j] = mtx[i, j] * x[i] * x[j]\n",
    "    \n",
    "    return mtx.sum()\n",
    "\n",
    "def constraint(x):\n",
    "    sum_weights = 1.0\n",
    "    for i in range(len(x)):\n",
    "        sum_weights = sum_weights - x[i]\n",
    "    \n",
    "    return sum_weights"
   ]
  },
  {
   "cell_type": "code",
   "execution_count": null,
   "id": "dd42ae02",
   "metadata": {},
   "outputs": [],
   "source": [
    "con = {'type' : 'eq', 'fun' : constraint}\n",
    "x0 = [1 / n for i in range(n)]\n",
    "'''Fill in list below for manual guesses'''\n",
    "#x0 = []\n",
    "\n",
    "'''Perform the optimization for min-variance portfolio'''\n",
    "sol = minimize(covar, x0, method='SLSQP', constraints=con, options={'disp' : True})\n",
    "print(sol.x, sum(sol.x))"
   ]
  },
  {
   "cell_type": "code",
   "execution_count": null,
   "id": "dfa8c09c",
   "metadata": {},
   "outputs": [],
   "source": [
    "'''Calculate portfolio stats'''\n",
    "p_var = covar(sol.x) * 252 ** 0.5\n",
    "p_sd = p_var ** 0.5\n",
    "p_rtn = (sol.x * mean_rtn).sum()\n",
    "\n",
    "sharpe_ratio = (p_rtn / p_sd)"
   ]
  },
  {
   "cell_type": "code",
   "execution_count": null,
   "id": "40755a4b",
   "metadata": {},
   "outputs": [],
   "source": [
    "'''Print Summary'''\n",
    "print(f'Portfolio Statistics\\nReturn: {round(p_rtn * 100, 3)}%\\nVariance: {round(p_var, 5)}\\nSt Dev: {round(p_sd * 100, 3)}%\\nSharpe Ratio: {round(sharpe_ratio, 5)}')\n",
    "x = 0\n",
    "for i in close.columns:\n",
    "    print(f'\\nWeight in {i}: {round(sol.x[x] * 100, 3)}%')\n",
    "    x += 1"
   ]
  },
  {
   "cell_type": "markdown",
   "id": "3075915f",
   "metadata": {},
   "source": [
    "Okay great, now we know the optimal weights for a min-variance portfolio. How can we expand on this?\n",
    "Charting the minimum-variance frontier will give use a graphical representation of possible portfolio combinations. We can then synthesize this with the capital allocation line to solve for our final portfolio composition."
   ]
  }
 ],
 "metadata": {
  "kernelspec": {
   "display_name": "Python 3",
   "language": "python",
   "name": "python3"
  },
  "language_info": {
   "codemirror_mode": {
    "name": "ipython",
    "version": 3
   },
   "file_extension": ".py",
   "mimetype": "text/x-python",
   "name": "python",
   "nbconvert_exporter": "python",
   "pygments_lexer": "ipython3",
   "version": "3.9.2"
  }
 },
 "nbformat": 4,
 "nbformat_minor": 5
}
